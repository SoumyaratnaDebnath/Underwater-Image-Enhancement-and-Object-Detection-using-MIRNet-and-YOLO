{
  "nbformat": 4,
  "nbformat_minor": 0,
  "metadata": {
    "colab": {
      "name": "Underwater Image Enhancement and Object Detection using MIRNet and YOLO.ipynb",
      "provenance": [],
      "collapsed_sections": []
    },
    "kernelspec": {
      "name": "python3",
      "display_name": "Python 3"
    },
    "language_info": {
      "name": "python"
    },
    "accelerator": "GPU",
    "gpuClass": "standard"
  },
  "cells": [
    {
      "cell_type": "markdown",
      "source": [
        "# Under Water Image Enhancement and Object Detection using MIRNet and YOLO"
      ],
      "metadata": {
        "id": "FNk0g5b1aP70"
      }
    },
    {
      "cell_type": "markdown",
      "source": [
        "Image Enhancement Using MIRNet"
      ],
      "metadata": {
        "id": "ouw03FgJJ24h"
      }
    },
    {
      "cell_type": "code",
      "execution_count": null,
      "metadata": {
        "id": "N6jEpd7Ldx8L"
      },
      "outputs": [],
      "source": [
        "from google.colab import files # addressing upload and download operations\n",
        "import os # operating system dependent functionality\n",
        "import numpy as np # array operations\n",
        "import keras # deep learning\n",
        "from PIL import Image # Image processing\n",
        "\n",
        "! pip install huggingface_hub\n",
        "from huggingface_hub import from_pretrained_keras # download the model\n",
        "\n",
        "model = from_pretrained_keras(\"keras-io/lowlight-enhance-mirnet\", compile=False)\n",
        "\n",
        "def create_enhanced_image(sample):\n",
        "  low_light_img = Image.open(sample).convert('RGB')\n",
        "  image = keras.preprocessing.image.img_to_array(low_light_img)\n",
        "  image = image.astype('float32') / 255.0\n",
        "  image = np.expand_dims(image, axis = 0)\n",
        "  output = model.predict(image) # model inference to enhance the low light pics\n",
        "  output_image = output[0] * 255.0\n",
        "  output_image = output_image.clip(0,255)\n",
        "  output_image = output_image.reshape((np.shape(output_image)[0],np.shape(output_image)[1],3))\n",
        "  output_image = np.uint32(output_image)\n",
        "  FinalOutput = Image.fromarray(output_image.astype('uint8'),'RGB')\n",
        "  FinalOutput.save(sample)"
      ]
    },
    {
      "cell_type": "markdown",
      "source": [
        "Cloning Darknet backbone for YOLOv3"
      ],
      "metadata": {
        "id": "u-jGBIEmKUyR"
      }
    },
    {
      "cell_type": "code",
      "source": [
        "!git clone https://github.com/AlexeyAB/darknet\n",
        "%cd darknet/\n",
        "!sed -i 's/OPENCV=0/OPENCV=1/' Makefile\n",
        "!sed -i 's/GPU=0/GPU=1/' Makefile\n",
        "!sed -i 's/CUDNN=0/CUDNN=1/' Makefile\n",
        "!sed -i 's/CUDNN_HALF=0/CUDNN_HALF=1/' Makefile\n",
        "!sed -i 's/LIBSO=0/LIBSO=1/' Makefile\n",
        "!make"
      ],
      "metadata": {
        "id": "RneFsGEpApP5"
      },
      "execution_count": null,
      "outputs": []
    },
    {
      "cell_type": "markdown",
      "source": [
        "Cloning supporting files for detection"
      ],
      "metadata": {
        "id": "QCuLHTWLNTfS"
      }
    },
    {
      "cell_type": "code",
      "source": [
        "os.chdir(\"/content\")\n",
        "!git clone https://Soumyaratna_Debnath@bitbucket.org/soumyaratnadebnath/uwod-support-files.git\n",
        "\n",
        "for item in os.listdir('./uwod-support-files/'):\n",
        "    os.rename('./uwod-support-files/'+item, './'+item)"
      ],
      "metadata": {
        "id": "Cyua1RHV7LpH"
      },
      "execution_count": null,
      "outputs": []
    },
    {
      "cell_type": "markdown",
      "source": [
        "<hr>"
      ],
      "metadata": {
        "id": "iUgSSmpFP7kC"
      }
    },
    {
      "cell_type": "markdown",
      "source": [
        "Upload Custom Image for Detection"
      ],
      "metadata": {
        "id": "p53OQdyWPkjQ"
      }
    },
    {
      "cell_type": "code",
      "source": [
        "print(\"Please Upload a .JPG Image for Detection\")\n",
        "sample = files.upload()\n",
        "source = list(sample.keys())[0]\n",
        "os.rename(\"./\"+source, \"./sample.jpg\")\n",
        "create_enhanced_image(\"sample.jpg\")\n",
        "os.rename(\"./sample.jpg\", \"./data/sample.jpg\")"
      ],
      "metadata": {
        "id": "OTGXqFcSPeax"
      },
      "execution_count": null,
      "outputs": []
    },
    {
      "cell_type": "markdown",
      "source": [
        "Performing Underwater Object Detetction"
      ],
      "metadata": {
        "id": "S9Cr6xINNl-u"
      }
    },
    {
      "cell_type": "code",
      "source": [
        "!chmod +x darknet/darknet\n",
        "!darknet/darknet detector test custom_data/labelled_data.data yolov3_custom.cfg yolov3_trained_model.weights data/sample.jpg -thresh 0.3"
      ],
      "metadata": {
        "id": "ZM7Zj3qtDHmi"
      },
      "execution_count": null,
      "outputs": []
    },
    {
      "cell_type": "markdown",
      "source": [
        "Displaying and downloading the results"
      ],
      "metadata": {
        "id": "COTJvKEqNfVj"
      }
    },
    {
      "cell_type": "code",
      "source": [
        "# helper functions\n",
        "def imShow(path):\n",
        "  import cv2\n",
        "  import matplotlib.pyplot as plt\n",
        "  %matplotlib inline\n",
        "\n",
        "  image = cv2.imread(path)\n",
        "  height, width = image.shape[:2]\n",
        "  resized_image = cv2.resize(image,(3*width, 3*height), interpolation = cv2.INTER_CUBIC)\n",
        "\n",
        "  fig = plt.gcf()\n",
        "  fig.set_size_inches(18, 10)\n",
        "  plt.axis(\"off\")\n",
        "  plt.imshow(cv2.cvtColor(resized_image, cv2.COLOR_BGR2RGB))\n",
        "  plt.show()\n",
        "\n",
        "# use this to download a file  \n",
        "def download(path):\n",
        "  from google.colab import files\n",
        "  files.download(path)\n",
        "\n",
        "imShow('predictions.jpg')\n",
        "download('predictions.jpg')"
      ],
      "metadata": {
        "id": "4yJusKLYrdU9"
      },
      "execution_count": null,
      "outputs": []
    }
  ]
}
